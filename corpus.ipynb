{
  "cells": [
    {
      "cell_type": "code",
      "execution_count": null,
      "metadata": {
        "id": "iRuhgmOl1w-Z"
      },
      "outputs": [],
      "source": [
        "# from google.colab import drive\n",
        "# drive.mount('/content/gdrive/')"
      ]
    },
    {
      "cell_type": "code",
      "execution_count": null,
      "metadata": {
        "id": "2XymAeL_0sZl"
      },
      "outputs": [],
      "source": [
        "# Make HTTP requests\n",
        "import requests\n",
        "# Scrape data from an HTML document\n",
        "from bs4 import BeautifulSoup\n",
        "# I/O\n",
        "import os\n",
        "# Search and manipulate strings\n",
        "import re\n",
        "\n",
        "from bs4 import BeautifulSoup\n",
        "import urllib.request\n"
      ]
    },
    {
      "cell_type": "code",
      "execution_count": null,
      "metadata": {
        "id": "gt4wgRIB124E",
        "colab": {
          "base_uri": "https://localhost:8080/"
        },
        "outputId": "73bf5632-fae8-4e4a-8480-0bbd9ae22771"
      },
      "outputs": [
        {
          "output_type": "stream",
          "name": "stdout",
          "text": [
            "1\n",
            "2\n",
            "3\n",
            "4\n",
            "5\n",
            "6\n",
            "7\n",
            "8\n",
            "9\n",
            "lenth:  122\n",
            "['https://www.tamilbeatslyrics.com/2022/12/aayiram-athisayam-baba-song-lyrics-in-tamil.html', 'https://www.tamilbeatslyrics.com/2022/10/anjathe-jeeva-song-lyrics-in-tamil.html', 'https://www.tamilbeatslyrics.com/2022/10/oru-poiyavathu-sol-kanne-song-lyrics.html', 'https://www.tamilbeatslyrics.com/2022/10/soniya-soniya-song-lyrics-in-tamil.html', 'https://www.tamilbeatslyrics.com/2022/10/nenje-nenje-maranthuvidu-song-lyrics.html', 'https://www.tamilbeatslyrics.com/2022/10/kannamoochi-yenada-song-lyrics-in-tamil.html', 'https://www.tamilbeatslyrics.com/2022/10/konjum-mainakkale-song-lyrics-in-tamil.html', 'https://www.tamilbeatslyrics.com/2022/10/alai-kadal-song-lyrics-in-tamil.html', 'https://www.tamilbeatslyrics.com/2022/09/mayilirage-song-lyrics-in-tamil.html', 'https://www.tamilbeatslyrics.com/2022/09/malli-poo-song-lyrics-in-tamil.html', 'https://www.tamilbeatslyrics.com/2022/09/unna-nenachadhum-song-lyrics-in-tamil.html', 'https://www.tamilbeatslyrics.com/2022/09/devaralan-aattam-song-lyrics-in-tamil.html', 'https://www.tamilbeatslyrics.com/2022/09/ratchasa-mamane-song-lyrics-in-tamil.html', 'https://www.tamilbeatslyrics.com/2022/08/kurukku-siruthavale-song-lyrics-in-tamil.html', 'https://www.tamilbeatslyrics.com/2022/08/mudhalvane-song-lyrics-in-tamil.html', 'https://www.tamilbeatslyrics.com/2022/08/azhagana-ratchasiye-song-lyrics-in-tamil.html', 'https://www.tamilbeatslyrics.com/2022/08/chola-chola-song-lyrics-in-tamil.html', 'https://www.tamilbeatslyrics.com/2022/08/marakkuma-nenjam-song-lyrics-in-tamil.html', 'https://www.tamilbeatslyrics.com/2022/07/ponni-nadhi-song-lyrics-in-tamil.html', 'https://www.tamilbeatslyrics.com/2022/07/maayava-thooyava-song-lyrics-in-tamil.html', 'https://www.tamilbeatslyrics.com/2022/07/tharangini-song-lyrics-in-tamil.html', 'https://www.tamilbeatslyrics.com/2022/07/yele-ilanchingame-song-lyrics-in-tamil.html', 'https://www.tamilbeatslyrics.com/2022/07/uyir-uruguthey-song-lyrics-in-tamil.html', 'https://www.tamilbeatslyrics.com/2022/07/kodu-potta-song-lyrics-in-tamil.html', 'https://www.tamilbeatslyrics.com/2022/06/kaattu-sirukki-song-lyrics-in-tamil.html', 'https://www.tamilbeatslyrics.com/2022/06/sotta-sotta-nanayuthu-taj-mahal-song-lyrics.html', 'https://www.tamilbeatslyrics.com/2022/06/oruvan-oruvan-mudhalali-song-lyrics-in-tamil.html', 'https://www.tamilbeatslyrics.com/2022/06/thandiya-attam-ada-song-lyrics-in-tamil.html', 'https://www.tamilbeatslyrics.com/2022/06/nenachapadi-nenachapadi-song-lyrics-in-tamil.html', 'https://www.tamilbeatslyrics.com/2022/05/kaalathukkum-nee-venum-song-lyrics.html', 'https://www.tamilbeatslyrics.com/2022/04/sarigame-padhanise-song-lyrics-in-tamil.html', 'https://www.tamilbeatslyrics.com/2022/04/adheera-song-lyrics-from-cobra-movie.html', 'https://www.tamilbeatslyrics.com/2022/03/moopilla-thamizhe-thaaye-song-lyrics.html', 'https://www.tamilbeatslyrics.com/2022/03/thilana-thilana-song-lyrics-in-tamil.html', 'https://www.tamilbeatslyrics.com/2022/02/newyork-nagaram-song-lyrics-in-tamil.html', 'https://www.tamilbeatslyrics.com/2022/02/innum-konjam-neram-song-lyrics.html', 'https://www.tamilbeatslyrics.com/2022/02/mukkala-mukabula-song-lyrics-in-tamil.html', 'https://www.tamilbeatslyrics.com/2022/01/hey-chaka-chakkalathi-song-lyrics-in-tamil.html', 'https://www.tamilbeatslyrics.com/2022/01/little-little-song-lyrics-in-tamil.html', 'https://www.tamilbeatslyrics.com/2022/01/kadhalai-solla-mudiyatha-song-lyrics.html', 'https://www.tamilbeatslyrics.com/2021/12/ithu-sugam-sugam-song-lyrics-in-tamil.html', 'https://www.tamilbeatslyrics.com/2021/12/aalala-kanda-song-lyrics-in-tamil.html', 'https://www.tamilbeatslyrics.com/2021/12/arima-arima-song-lyrics-in-tamil.html', 'https://www.tamilbeatslyrics.com/2021/12/nila-kaigirathu-song-lyrics-in-tamil.html', 'https://www.tamilbeatslyrics.com/2021/11/poongatrile-un-swasathai-song-lyrics.html', 'https://www.tamilbeatslyrics.com/2021/11/naan-un-azhaginile-song-lyrics-in-tamil.html', 'https://www.tamilbeatslyrics.com/2021/11/munbe-vaa-en-anbe-vaa-song-lyrics.html', 'https://www.tamilbeatslyrics.com/2021/11/yeno-vaanilai-maaruthey-song-lyrics.html', 'https://www.tamilbeatslyrics.com/2021/10/kaatre-en-vaasal-song-lyrics-in-tamil.html', 'https://www.tamilbeatslyrics.com/2021/10/kadhal-kanava-song-lyrics-in-tamil.html', 'https://www.tamilbeatslyrics.com/2021/09/kala-kalavena-pozhiyum-song-lyrics.html', 'https://www.tamilbeatslyrics.com/2021/09/valayapathi-song-lyrics-in-tamil.html', 'https://www.tamilbeatslyrics.com/2021/09/roja-roja-song-lyrics-in-tamil.html', 'https://www.tamilbeatslyrics.com/2021/09/kadhal-ennum-therveluthi-song-lyrics.html', 'https://www.tamilbeatslyrics.com/2021/09/enna-vilai-azhage-song-lyrics-in-tamil.html', 'https://www.tamilbeatslyrics.com/2021/08/konja-neram-ennai-kollaya-song-lyrics.html', 'https://www.tamilbeatslyrics.com/2021/08/kalvare-kalvare-song-lyrics-in-tamil.html', 'https://www.tamilbeatslyrics.com/2021/08/kanneere-kanneere-song-lyrics-in-tamil.html', 'https://www.tamilbeatslyrics.com/2021/08/margali-poove-song-lyrics-in-tamil.html', 'https://www.tamilbeatslyrics.com/2021/08/thai-manne-vanakkam-song-lyrics.html', 'https://www.tamilbeatslyrics.com/2021/08/ini-acham-acham-illai-song-lyrics.html', 'https://www.tamilbeatslyrics.com/2021/07/santhoshi-santhoshi-song-lyrics.html', 'https://www.tamilbeatslyrics.com/2021/07/pudhu-vellai-mazhai-song-lyrics-in-tamil.html', 'https://www.tamilbeatslyrics.com/2021/07/malargale-malargale-song-lyrics-in-tamil.html', 'https://www.tamilbeatslyrics.com/2021/07/ennavale-adi-ennavale-song-lyrics.html', 'https://www.tamilbeatslyrics.com/2021/07/kadhal-kaditham-theetave-song-lyrics.html', 'https://www.tamilbeatslyrics.com/2021/07/velli-malare-song-lyrics-in-tamil.html', 'https://www.tamilbeatslyrics.com/2021/05/taxi-taxi-nanban-kidaithal-song-lyrics.html', 'https://www.tamilbeatslyrics.com/2021/05/mustafa-mustafa-song-lyrics-in-tamil.html', 'https://www.tamilbeatslyrics.com/2021/05/oru-nanban-irundhal-song-lyrics.html', 'https://www.tamilbeatslyrics.com/2021/05/anjali-anjali-pushpanjali-song-lyrics.html', 'https://www.tamilbeatslyrics.com/2021/05/kombe-sura-song-lyrics-in-tamil.html', 'https://www.tamilbeatslyrics.com/2021/05/santhiranai-thottathu-yaar-song-lyrics.html', 'https://www.tamilbeatslyrics.com/2021/05/sotta-sotta-nanayuthu-song-lyrics.html', 'https://www.tamilbeatslyrics.com/2021/05/pachai-nirame-song-lyrics-in-tamil.html', 'https://www.tamilbeatslyrics.com/2021/05/en-mel-vilunda-malai-thuliye-song-lyrics.html', 'https://www.tamilbeatslyrics.com/2021/05/vennilave-vennilave-song-lyrics.html', 'https://www.tamilbeatslyrics.com/2021/05/poovukkul-olinthirukkum-song-lyrics.html', 'https://www.tamilbeatslyrics.com/2021/05/anbe-anbe-kollathe-song-lyrics.html', 'https://www.tamilbeatslyrics.com/2021/05/oru-deivam-thantha-poove-song-lyrics.html', 'https://www.tamilbeatslyrics.com/2021/05/nenjinile-nenjinile-song-lyrics.html', 'https://www.tamilbeatslyrics.com/2021/05/mudhal-murai-killi-parthen-song-lyrics.html', 'https://www.tamilbeatslyrics.com/2021/04/minnale-nee-vanthathenadi-song-lyrics-in-tamil.html', 'https://www.tamilbeatslyrics.com/2021/04/mulumathi-aval-mugam-song-lyrics-in-tamil.html', 'https://www.tamilbeatslyrics.com/2021/03/pachai-kiligal-tholodu-song-lyrics-in-tamil.html', 'https://www.tamilbeatslyrics.com/2021/03/nenjukulle-umma-mudinjirukken-song-lyrics-in-tamil.html', 'https://www.tamilbeatslyrics.com/2021/02/vera-level-sago-song-lyrics-in-tamil.html', 'https://www.tamilbeatslyrics.com/2020/12/raa-kozhi-rendu-song-lyrics-in-tamil.html', 'https://www.tamilbeatslyrics.com/2020/11/saratu-vandiyil-song-lyrics-in-tamil.html', 'https://www.tamilbeatslyrics.com/2020/11/uyire-unnai-unnai-enthan-song-lyrics-in-tamil.html', 'https://www.tamilbeatslyrics.com/2020/11/avalukena-ambasamudram-song-lyrics-in-tamil.html', 'https://www.tamilbeatslyrics.com/2020/11/ottagatha-kattiko-song-lyrics-in-tamil.html', 'https://www.tamilbeatslyrics.com/2020/11/mannipaaya-song-lyrics-in-tamil.html', 'https://www.tamilbeatslyrics.com/2020/11/enge-en-punnagai-song-lyrics-in-tamil.html', 'https://www.tamilbeatslyrics.com/2020/11/kannalane-enathu-kannai-song-lyrics-in-tamil.html', 'https://www.tamilbeatslyrics.com/2020/11/yaro-yarodi-song-lyrics-in-tamil-alaipayuthey-movie.html', 'https://www.tamilbeatslyrics.com/2020/11/enge-enathu-kavithai-song-lyrics-in-tamil.html', 'https://www.tamilbeatslyrics.com/2020/11/santhana-thendralai-song-lyrics-in-tamil.html', 'https://www.tamilbeatslyrics.com/2020/11/unmai-kadhal-yaar-endral-song-lyrics-in-tamil.html', 'https://www.tamilbeatslyrics.com/2020/11/thanga-thamarai-magale-song-lyrics-in-tamil.html', 'https://www.tamilbeatslyrics.com/2020/11/ravodum-pagalodum-song-lyrics-in-tamil.html', 'https://www.tamilbeatslyrics.com/2020/11/snegithane-or-netru-mun-iravil-song-lyrics-in-tamil.html', 'https://www.tamilbeatslyrics.com/2020/11/egiri-kuthithen-or-ale-ale-song-lyrics-in-tamil.html', 'https://www.tamilbeatslyrics.com/2020/09/ella-pugalum-song-lyrics-in-tamil.html', 'https://www.tamilbeatslyrics.com/2020/09/kalayil-dhinamum-song-lyrics-in-tamil.html', 'https://www.tamilbeatslyrics.com/2020/09/nane-varugiren-song-lyrics-in-tamil.html', 'https://www.tamilbeatslyrics.com/2020/09/haira-haira-hai-rabba-song-lyrics-in-tamil.html', 'https://www.tamilbeatslyrics.com/2020/08/usure-poguthey-song-lyrics.html', 'https://www.tamilbeatslyrics.com/2020/08/evano-oruvan-vasikiran-song-lyrics-in-tamil.html', 'https://www.tamilbeatslyrics.com/2020/08/naan-mutham-thinbaval-song-lyrics-in-tamil.html', 'https://www.tamilbeatslyrics.com/2020/08/thumbi-thullal-song-lyrics-in-tamil.html', 'https://www.tamilbeatslyrics.com/2020/03/mona-mona-song-lyrics-in-tamil.html', 'https://www.tamilbeatslyrics.com/2020/02/singappenney-song-lyrics.html', 'https://www.tamilbeatslyrics.com/2020/02/maatharey-song-lyrics.html', 'https://www.tamilbeatslyrics.com/2020/01/aathangara-marame-song-lyrics.html', 'https://www.tamilbeatslyrics.com/2019/09/unakaga-song-lyrics-in-tamil.html', 'https://www.tamilbeatslyrics.com/2019/09/verithanam-song-lyrics-in-tamil.html', 'https://www.tamilbeatslyrics.com/2019/08/yaarumilla-thaniyarangil-song-lyrics.html', 'https://www.tamilbeatslyrics.com/2019/08/aye-mr-minor-song-lyrics-in-tamil.html', 'https://www.tamilbeatslyrics.com/2019/05/pookkalae-sattru-oyivedungal-song.html', 'https://www.tamilbeatslyrics.com/2019/01/neethanae-neethanae-song-lyrics-in-tamil.html', 'https://www.tamilbeatslyrics.com/2019/01/aalaporan-thamizhan-song-lyrics-in-tamil.html']\n"
          ]
        }
      ],
      "source": [
        "# Scrape lyrics from a Genius.com song URL\n",
        "def scrape_song_links(url):\n",
        "    page = requests.get(url)\n",
        "    html = BeautifulSoup(page.text, 'html.parser')\n",
        "    songs_href = []\n",
        "\n",
        "    for link in html.findAll('a'):\n",
        "      if link.get('href').endswith('.html'):\n",
        "        songs_href.append((link.get('href')))\n",
        "    \n",
        "    return songs_href\n",
        "# collect song links\n",
        "songs_href_collection = []\n",
        "for i in range (1,10):\n",
        "  print(i)\n",
        "  songs_href = scrape_song_links('https://www.tamilbeatslyrics.com/category/tamil-lyricist/vairamuthu/page/'+str(i))\n",
        "  songs_href_collection += songs_href\n",
        "# for i in range (1,4):\n",
        "#   print(i)\n",
        "#   songs_href = scrape_song_links('https://www.tamilbeatslyrics.com/category/tamil-music-directors/harris-jayaraj/page/'+str(i))\n",
        "#   songs_href_collection += songs_href\n",
        "\n",
        "print('lenth: ', len(songs_href_collection))\n",
        "print(songs_href_collection)"
      ]
    },
    {
      "cell_type": "code",
      "execution_count": null,
      "metadata": {
        "id": "HUj878bCBS2M"
      },
      "outputs": [],
      "source": [
        "def scrape_song_lyrics(url):\n",
        "    song_details = {}\n",
        "    page = requests.get(url)\n",
        "    html = BeautifulSoup(page.text, 'html.parser')\n",
        "    # print(html)\n",
        "\n",
        "    details = html.find('figure', class_='wp-block-table is-style-stripes').get_text()\n",
        "    # print(details)\n",
        "\n",
        "    if 'பாடல்' in details:\n",
        "      song_details['song_name'] = (details.split('பாடல்:'))[1].split('படம்:')[0]\n",
        "\n",
        "      song_details['album'] = (details.split('படம்:'))[1].split('வருடம்:')[0]\n",
        "      \n",
        "      song_details['year'] = (details.split('வருடம்:'))[1].split('இசை:')[0]\n",
        "\n",
        "      song_details['composer'] = (details.split('இசை:'))[1].split('வரிகள்:')[0]\n",
        "\n",
        "      song_details['lyricist'] = (details.split('வரிகள்:'))[1].split('பாடகர்:')[0]\n",
        "\n",
        "      song_details['singers'] = (details.split('பாடகர்:'))[1].split(',')\n",
        "\n",
        "      lyrics = html.find('div', class_='entry-content clear').get_text()\n",
        "      # print(lyrics)\n",
        "      # if 'ஆண்: ' in lyrics or 'பெண்: ' in lyrics:\n",
        "      # print([word for word in lyrics.split() if word not in {\"ஆண்: \",\"பெண்: \"}])\n",
        "      if 'ஆண்:' in lyrics:\n",
        "        my_list = list(filter(None, re.split(r'ஆண்: |பெண்: ',lyrics)))\n",
        "        lyrics_list = my_list[1:]\n",
        "      elif 'ஆண்1:' in lyrics:\n",
        "        my_list = list(filter(None, re.split(r'ஆண்1: |பெண்1: ',lyrics)))\n",
        "        lyrics_list = my_list[1:]\n",
        "      elif 'ஆண்:' not in lyrics:\n",
        "        my_list = list(filter(None, re.split(r'பாடகர்',lyrics)))\n",
        "        print('before split \\\\n')\n",
        "        new_list = my_list[1:]\n",
        "        lyrics_list = new_list[0].split('\\n')[2:]\n",
        "        # lyrics_list = lyrics_list\n",
        "        print(lyrics_list)\n",
        "      else:\n",
        "        print(lyrics)\n",
        "      # print(lyrics_list)\n",
        "      \n",
        "      real_lyrics = ''\n",
        "      for line in lyrics_list:\n",
        "        line = line.split('(adsbygoogle = window.adsbygoogle || []).push({});')[0]\n",
        "        line = line.split('\\n')[0]\n",
        "        real_lyrics += line\n",
        "        real_lyrics += \"\\n\"\n",
        "      # print(real_lyrics)\n",
        "      \n",
        "      song_details['lyrics'] = real_lyrics\n",
        "      # print(song_details)\n",
        "    \n",
        "    else:\n",
        "      song_details['album'] = (details.split('படத்தின் பெயர்:'))[1].split('வருடம்:')[0]\n",
        "\n",
        "      song_details['year'] = (details.split('வருடம்:'))[1].split('பாடலின் பெயர்:')[0]\n",
        "      \n",
        "      song_details['song_name'] = (details.split('பாடலின் பெயர்:'))[1].split('இசையமைப்பாளர்:')[0]\n",
        "\n",
        "      song_details['composer'] = (details.split('இசையமைப்பாளர்:'))[1].split('பாடலாசிரியர்:')[0]\n",
        "\n",
        "      song_details['lyricist'] = (details.split('பாடலாசிரியர்:'))[1].split('பாடகர்கள்:')[0]\n",
        "\n",
        "      song_details['singers'] = (details.split('பாடகர்கள்:'))[1].split(',')\n",
        "\n",
        "      lyrics = html.find('div', class_='entry-content clear').get_text()\n",
        "      # print(lyrics)\n",
        "      # if 'ஆண்: ' in lyrics or 'பெண்: ' in lyrics:\n",
        "      # print([word for word in lyrics.split() if word not in {\"ஆண்: \",\"பெண்: \"}])\n",
        "      if 'ஆண்:' in lyrics:\n",
        "        my_list = list(filter(None, re.split(r'ஆண்: |பெண்: ',lyrics)))\n",
        "        lyrics_list = my_list[1:]\n",
        "      elif 'ஆண்1:' in lyrics:\n",
        "        my_list = list(filter(None, re.split(r'ஆண்1: |பெண்1: ',lyrics)))\n",
        "        lyrics_list = my_list[1:]\n",
        "      elif 'ஆண்:' not in lyrics:\n",
        "        my_list = list(filter(None, re.split(r'பாடகர்',lyrics)))\n",
        "        print('before split \\\\n')\n",
        "        new_list = my_list[1:]\n",
        "        lyrics_list = new_list[0].split('\\n')[2:]\n",
        "        # lyrics_list = lyrics_list\n",
        "        print(lyrics_list)\n",
        "      else:\n",
        "        print(lyrics)\n",
        "      # print(lyrics_list)\n",
        "      \n",
        "      real_lyrics = ''\n",
        "      for line in lyrics_list:\n",
        "        line = line.split('(adsbygoogle = window.adsbygoogle || []).push({});')[0]\n",
        "        line = line.split('\\n')[0]\n",
        "        real_lyrics += line\n",
        "        real_lyrics += \" \"\n",
        "      # print(real_lyrics)\n",
        "      \n",
        "      song_details['lyrics'] = real_lyrics\n",
        "      # print(song_details)\n",
        "\n",
        "    return song_details\n",
        "    \n",
        "    # return songs_href\n",
        "\n",
        "all_songs_details = []\n",
        "index = 0\n",
        "passed = 0\n",
        "for link in songs_href_collection:\n",
        "  index += 1\n",
        "  try:\n",
        "    print(index, link)\n",
        "    details = scrape_song_lyrics(link)\n",
        "    all_songs_details.append(details)\n",
        "    passed += 1\n",
        "  except:\n",
        "    print(index, 'failed: ', link)\n",
        "\n",
        "print(passed)\n",
        "# all_songs_details\n",
        "\n",
        "# scrape_song_lyrics('https://www.tamilbeatslyrics.com/2022/11/iraq-yutham-song-lyrics-in-tamil.html')"
      ]
    },
    {
      "cell_type": "code",
      "execution_count": null,
      "metadata": {
        "colab": {
          "base_uri": "https://localhost:8080/",
          "height": 17
        },
        "id": "PoV29jLKYKGm",
        "outputId": "041f6c54-9001-4e57-d13a-41b4f41c719d"
      },
      "outputs": [
        {
          "output_type": "display_data",
          "data": {
            "text/plain": [
              "<IPython.core.display.Javascript object>"
            ],
            "application/javascript": [
              "\n",
              "    async function download(id, filename, size) {\n",
              "      if (!google.colab.kernel.accessAllowed) {\n",
              "        return;\n",
              "      }\n",
              "      const div = document.createElement('div');\n",
              "      const label = document.createElement('label');\n",
              "      label.textContent = `Downloading \"${filename}\": `;\n",
              "      div.appendChild(label);\n",
              "      const progress = document.createElement('progress');\n",
              "      progress.max = size;\n",
              "      div.appendChild(progress);\n",
              "      document.body.appendChild(div);\n",
              "\n",
              "      const buffers = [];\n",
              "      let downloaded = 0;\n",
              "\n",
              "      const channel = await google.colab.kernel.comms.open(id);\n",
              "      // Send a message to notify the kernel that we're ready.\n",
              "      channel.send({})\n",
              "\n",
              "      for await (const message of channel.messages) {\n",
              "        // Send a message to notify the kernel that we're ready.\n",
              "        channel.send({})\n",
              "        if (message.buffers) {\n",
              "          for (const buffer of message.buffers) {\n",
              "            buffers.push(buffer);\n",
              "            downloaded += buffer.byteLength;\n",
              "            progress.value = downloaded;\n",
              "          }\n",
              "        }\n",
              "      }\n",
              "      const blob = new Blob(buffers, {type: 'application/binary'});\n",
              "      const a = document.createElement('a');\n",
              "      a.href = window.URL.createObjectURL(blob);\n",
              "      a.download = filename;\n",
              "      div.appendChild(a);\n",
              "      a.click();\n",
              "      div.remove();\n",
              "    }\n",
              "  "
            ]
          },
          "metadata": {}
        },
        {
          "output_type": "display_data",
          "data": {
            "text/plain": [
              "<IPython.core.display.Javascript object>"
            ],
            "application/javascript": [
              "download(\"download_108dabc9-7ed2-451e-acb3-474068600276\", \"bby.xlsx\", 384257)"
            ]
          },
          "metadata": {}
        }
      ],
      "source": [
        "\n",
        "import pandas as pd\n",
        "\n",
        "df = pd.DataFrame(all_songs_details) \n",
        "df.to_csv(\"corpus.csv\", index=False)\n",
        "\n",
        "\n",
        "from google.colab import files\n",
        "files.download('corpus.csv')\n"
      ]
    }
  ],
  "metadata": {
    "colab": {
      "provenance": []
    },
    "kernelspec": {
      "display_name": "Python 3",
      "name": "python3"
    },
    "language_info": {
      "name": "python"
    }
  },
  "nbformat": 4,
  "nbformat_minor": 0
}