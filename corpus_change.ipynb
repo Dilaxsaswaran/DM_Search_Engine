{
  "nbformat": 4,
  "nbformat_minor": 0,
  "metadata": {
    "colab": {
      "provenance": []
    },
    "kernelspec": {
      "name": "python3",
      "display_name": "Python 3"
    },
    "language_info": {
      "name": "python"
    }
  },
  "cells": [
    {
      "cell_type": "code",
      "execution_count": null,
      "metadata": {
        "colab": {
          "base_uri": "https://localhost:8080/"
        },
        "id": "wwk8m8-ee5M4",
        "outputId": "3d23d92b-b7ea-44d9-bd49-80283b52fdf9"
      },
      "outputs": [
        {
          "output_type": "stream",
          "name": "stdout",
          "text": [
            "Drive already mounted at /content/gdrive/; to attempt to forcibly remount, call drive.mount(\"/content/gdrive/\", force_remount=True).\n"
          ]
        }
      ],
      "source": [
        "from google.colab import drive\n",
        "drive.mount('/content/gdrive/')"
      ]
    },
    {
      "cell_type": "code",
      "source": [
        "import pandas as pd\n",
        "import numpy as np\n",
        "import datetime as dt"
      ],
      "metadata": {
        "id": "lXQhFEsLfcvg"
      },
      "execution_count": null,
      "outputs": []
    },
    {
      "cell_type": "code",
      "source": [
        "corpus = pd.read_json(\"/content/gdrive/MyDrive/Data Mining Project/180568.json\",  lines=True)\n",
        "corpus.head()\n",
        "# colums = corpus.columns\n",
        "# colums\n",
        "c_f = corpus.loc[corpus['year'].notnull(), [ 'album', 'year', 'song_name', 'lyricist', 'composer', 'lyrics',\n",
        "       'metaphors']]\n",
        "c_f[\"metaphors\"]"
      ],
      "metadata": {
        "colab": {
          "base_uri": "https://localhost:8080/"
        },
        "id": "vZADY6n_ffaZ",
        "outputId": "47b0297d-0b8a-439b-fca7-8ef7ee4d74ed"
      },
      "execution_count": null,
      "outputs": [
        {
          "output_type": "execute_result",
          "data": {
            "text/plain": [
              "1      [{'metaphor': 'தவம்போல் இருந்து யோசிக்கிறேன்',...\n",
              "3      [{'metaphor': 'இதயம் ஒரு கண்ணாடி', 'target': '...\n",
              "5      [{'metaphor': 'மேக்னெட் விழியால்', 'target': '...\n",
              "7      [{'metaphor': 'பூமியே துரும்புங்க', 'target': ...\n",
              "9      [{'metaphor': 'புன்னகை தீவே', 'target': 'பெண்'...\n",
              "                             ...                        \n",
              "193    [{'metaphor': 'பூவாக பூத்தாயடி', 'target': 'பெ...\n",
              "195    [{'metaphor': 'குடை போலவே சாய்ந்தேன்', 'target...\n",
              "197    [{'metaphor': 'வா வா நிலவை புடிச்சுத் தரவாவெள்...\n",
              "199    [{'metaphor': 'இறகை போலே அலைகிறேனே', 'target':...\n",
              "201    [{'metaphor': 'தோட்டத்தில் மலர்ந்த பூவாக', 'ta...\n",
              "Name: metaphors, Length: 101, dtype: object"
            ]
          },
          "metadata": {},
          "execution_count": 28
        }
      ]
    },
    {
      "cell_type": "code",
      "source": [
        "final = []\n",
        "for i in range(len(c_f[\"metaphors\"])):\n",
        "  print(i)\n",
        "  for j in range(len(c_f[\"metaphors\"][i*2+1])):\n",
        "    # print(c_f[\"metaphors\"][i*2+1][j])\n",
        "    new_c_f = {}\n",
        "    new_c_f[\"year\"] = c_f[\"year\"][i*2+1]\n",
        "    new_c_f[\"album\"] = c_f[\"album\"][i*2+1]\n",
        "    new_c_f[\"song_name\"] = c_f[\"song_name\"][i*2+1]\n",
        "    new_c_f[\"lyricist\"] = c_f[\"lyricist\"][i*2+1]\n",
        "    new_c_f[\"singers\"] = c_f[\"singers\"][i*2+1]\n",
        "    new_c_f[\"composer\"] = c_f[\"composer\"][i*2+1]\n",
        "    new_c_f[\"lyrics\"] = c_f[\"lyrics\"][i*2+1]\n",
        "    new_c_f[\"metaphor\"] = c_f[\"metaphors\"][i*2+1][j][\"metaphor\"]\n",
        "    new_c_f[\"Source Domain\"] = c_f[\"metaphors\"][i*2+1][j][\"source\"]\n",
        "    new_c_f[\"Target Domain\"] = c_f[\"metaphors\"][i*2+1][j][\"target\"]\n",
        "    new_c_f[\"Type of Metaphor\"] = \"\"\n",
        "    new_c_f[\"Interpretation\"] = c_f[\"metaphors\"][i*2+1][j][\"interpretation\"]\n",
        "    final.append(new_c_f)\n",
        "# final\n",
        "\n",
        "\n",
        "    # print(c_f[\"metaphors\"][i*2+1][j])"
      ],
      "metadata": {
        "colab": {
          "base_uri": "https://localhost:8080/"
        },
        "id": "KZCZGgrviQKA",
        "outputId": "1e4f13c5-df14-45d1-9f88-8cf3a70423ed"
      },
      "execution_count": null,
      "outputs": [
        {
          "output_type": "stream",
          "name": "stdout",
          "text": [
            "0\n",
            "1\n",
            "2\n",
            "3\n",
            "4\n",
            "5\n",
            "6\n",
            "7\n",
            "8\n",
            "9\n",
            "10\n",
            "11\n",
            "12\n",
            "13\n",
            "14\n",
            "15\n",
            "16\n",
            "17\n",
            "18\n",
            "19\n",
            "20\n",
            "21\n",
            "22\n",
            "23\n",
            "24\n",
            "25\n",
            "26\n",
            "27\n",
            "28\n",
            "29\n",
            "30\n",
            "31\n",
            "32\n",
            "33\n",
            "34\n",
            "35\n",
            "36\n",
            "37\n",
            "38\n",
            "39\n",
            "40\n",
            "41\n",
            "42\n",
            "43\n",
            "44\n",
            "45\n",
            "46\n",
            "47\n",
            "48\n",
            "49\n",
            "50\n",
            "51\n",
            "52\n",
            "53\n",
            "54\n",
            "55\n",
            "56\n",
            "57\n",
            "58\n",
            "59\n",
            "60\n",
            "61\n",
            "62\n",
            "63\n",
            "64\n",
            "65\n",
            "66\n",
            "67\n",
            "68\n",
            "69\n",
            "70\n",
            "71\n",
            "72\n",
            "73\n",
            "74\n",
            "75\n",
            "76\n",
            "77\n",
            "78\n",
            "79\n",
            "80\n",
            "81\n",
            "82\n",
            "83\n",
            "84\n",
            "85\n",
            "86\n",
            "87\n",
            "88\n",
            "89\n",
            "90\n",
            "91\n",
            "92\n",
            "93\n",
            "94\n",
            "95\n",
            "96\n",
            "97\n",
            "98\n",
            "99\n",
            "100\n"
          ]
        }
      ]
    },
    {
      "cell_type": "code",
      "source": [
        "import re\n",
        "df = pd.DataFrame(final)\n",
        "df1 = df.replace(r'\\n',' ', regex=True)\n",
        "df.to_csv('final_corpus.csv', index=False)\n"
      ],
      "metadata": {
        "id": "j2PBwPvWn4bN"
      },
      "execution_count": null,
      "outputs": []
    }
  ]
}